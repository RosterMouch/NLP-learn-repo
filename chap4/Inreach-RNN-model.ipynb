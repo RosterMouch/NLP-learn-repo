{
 "cells": [
  {
   "attachments": {},
   "cell_type": "markdown",
   "metadata": {},
   "source": [
    "在Pytorch中实现RNN神经网络"
   ]
  },
  {
   "cell_type": "code",
   "execution_count": 1,
   "metadata": {},
   "outputs": [],
   "source": [
    "from torch.nn import RNN\n",
    "import torch"
   ]
  },
  {
   "cell_type": "code",
   "execution_count": 2,
   "metadata": {},
   "outputs": [],
   "source": [
    "# 初始化CUDA\n",
    "device = torch.device(\"cuda\" if torch.cuda.is_available() else \"cpu\")"
   ]
  },
  {
   "cell_type": "code",
   "execution_count": 3,
   "metadata": {},
   "outputs": [
    {
     "data": {
      "text/plain": [
       "RNN(4, 5, batch_first=True)"
      ]
     },
     "execution_count": 3,
     "metadata": {},
     "output_type": "execute_result"
    }
   ],
   "source": [
    "# 创建一个RNN层，输入维度为4，隐藏层维度为5，开启batch_first模式\n",
    "# batch_first=True表示输入输出的第一维是batch_size\n",
    "rnn = RNN(input_size=4, hidden_size=5, batch_first=True,device=device)\n",
    "rnn"
   ]
  },
  {
   "cell_type": "code",
   "execution_count": 4,
   "metadata": {},
   "outputs": [
    {
     "data": {
      "text/plain": [
       "tensor([[[ 1.0039, -0.6786, -0.2076, -0.1702],\n",
       "         [-0.4960, -1.6890, -0.3542,  0.5779],\n",
       "         [-0.1755, -1.4209,  1.0217, -0.1050]],\n",
       "\n",
       "        [[ 0.1786,  0.8314,  0.7208,  2.0142],\n",
       "         [-1.1695, -0.0390, -0.5552, -0.3717],\n",
       "         [ 0.3615, -0.4247, -0.3158, -0.4477]]], device='cuda:0')"
      ]
     },
     "execution_count": 4,
     "metadata": {},
     "output_type": "execute_result"
    }
   ],
   "source": [
    "# 初始化一个随机张量，维度为(2, 3, 4)，表示2个batch，每个batch有3个序列，每个序列有4个特征\n",
    "inputs = torch.randn(2, 3, 4,device=device)\n",
    "inputs"
   ]
  },
  {
   "cell_type": "code",
   "execution_count": 5,
   "metadata": {},
   "outputs": [
    {
     "data": {
      "text/plain": [
       "(torch.Size([2, 3, 5]), torch.Size([1, 2, 5]))"
      ]
     },
     "execution_count": 5,
     "metadata": {},
     "output_type": "execute_result"
    }
   ],
   "source": [
    "outputs, hn = rnn(inputs) # outputs为输出序列的隐含层状态，hn为最后一个序列的隐含层状态\n",
    "outputs.shape, hn.shape"
   ]
  },
  {
   "cell_type": "code",
   "execution_count": 6,
   "metadata": {},
   "outputs": [
    {
     "data": {
      "text/plain": [
       "tensor([[[ 0.3286,  0.1917, -0.0107,  0.7120,  0.2633],\n",
       "         [-0.7086, -0.1391,  0.1336,  0.6129,  0.7240],\n",
       "         [-0.3454, -0.5490, -0.2473,  0.5725,  0.7806]],\n",
       "\n",
       "        [[-0.2301, -0.9193,  0.5843,  0.5449,  0.4078],\n",
       "         [-0.4512, -0.8137,  0.6152,  0.1957, -0.4242],\n",
       "         [-0.2190, -0.3424,  0.3636,  0.3892, -0.2431]]], device='cuda:0',\n",
       "       grad_fn=<CudnnRnnBackward0>)"
      ]
     },
     "execution_count": 6,
     "metadata": {},
     "output_type": "execute_result"
    }
   ],
   "source": [
    "outputs"
   ]
  },
  {
   "cell_type": "code",
   "execution_count": 7,
   "metadata": {},
   "outputs": [
    {
     "data": {
      "text/plain": [
       "tensor([[[-0.3454, -0.5490, -0.2473,  0.5725,  0.7806],\n",
       "         [-0.2190, -0.3424,  0.3636,  0.3892, -0.2431]]], device='cuda:0',\n",
       "       grad_fn=<CudnnRnnBackward0>)"
      ]
     },
     "execution_count": 7,
     "metadata": {},
     "output_type": "execute_result"
    }
   ],
   "source": [
    "hn"
   ]
  },
  {
   "cell_type": "code",
   "execution_count": 8,
   "metadata": {},
   "outputs": [
    {
     "data": {
      "text/plain": [
       "RNN(4, 5, num_layers=2, batch_first=True, bidirectional=True)"
      ]
     },
     "execution_count": 8,
     "metadata": {},
     "output_type": "execute_result"
    }
   ],
   "source": [
    "# 定义一个双向RNN层，输入维度为4，隐藏层维度为5，开启batch_first模式，堆叠层数为2\n",
    "rnn = RNN(input_size=4, hidden_size=5, batch_first=True, num_layers=2, bidirectional=True,device=device)\n",
    "rnn"
   ]
  },
  {
   "cell_type": "code",
   "execution_count": 9,
   "metadata": {},
   "outputs": [
    {
     "data": {
      "text/plain": [
       "(torch.Size([2, 3, 10]), torch.Size([4, 2, 5]))"
      ]
     },
     "execution_count": 9,
     "metadata": {},
     "output_type": "execute_result"
    }
   ],
   "source": [
    "outputs_with_double, hn_with_double = rnn(inputs)\n",
    "outputs_with_double.shape, hn_with_double.shape"
   ]
  },
  {
   "cell_type": "code",
   "execution_count": 10,
   "metadata": {},
   "outputs": [
    {
     "data": {
      "text/plain": [
       "tensor([[[-0.7537, -0.4301, -0.5633,  0.0034, -0.5138, -0.2286, -0.4007,\n",
       "           0.5735, -0.1992, -0.2080],\n",
       "         [-0.4938,  0.0133, -0.8506,  0.7488, -0.8444, -0.4230, -0.1390,\n",
       "           0.8298,  0.1330, -0.6422],\n",
       "         [-0.0914, -0.1401, -0.9501,  0.5644, -0.5316, -0.1271,  0.2501,\n",
       "           0.7414, -0.5827, -0.6686]],\n",
       "\n",
       "        [[-0.5558, -0.1578, -0.6910,  0.5820, -0.1193, -0.2993,  0.3410,\n",
       "           0.4289,  0.2333, -0.0319],\n",
       "         [-0.3459, -0.3418, -0.9399,  0.4177, -0.3245, -0.1056,  0.2485,\n",
       "           0.7853, -0.4696, -0.4255],\n",
       "         [-0.1873, -0.4870, -0.9288,  0.6765, -0.3088, -0.1343,  0.2266,\n",
       "           0.5946, -0.3850, -0.6825]]], device='cuda:0',\n",
       "       grad_fn=<CudnnRnnBackward0>)"
      ]
     },
     "execution_count": 10,
     "metadata": {},
     "output_type": "execute_result"
    }
   ],
   "source": [
    "outputs_with_double"
   ]
  },
  {
   "cell_type": "code",
   "execution_count": 11,
   "metadata": {},
   "outputs": [
    {
     "data": {
      "text/plain": [
       "tensor([[[ 0.4403,  0.5833,  0.6684, -0.2450,  0.4711],\n",
       "         [-0.0758,  0.1909,  0.4530, -0.4133,  0.4646]],\n",
       "\n",
       "        [[-0.4795,  0.3486, -0.7388,  0.2826,  0.5999],\n",
       "         [-0.5647, -0.1687,  0.4200, -0.3890,  0.4590]],\n",
       "\n",
       "        [[-0.0914, -0.1401, -0.9501,  0.5644, -0.5316],\n",
       "         [-0.1873, -0.4870, -0.9288,  0.6765, -0.3088]],\n",
       "\n",
       "        [[-0.2286, -0.4007,  0.5735, -0.1992, -0.2080],\n",
       "         [-0.2993,  0.3410,  0.4289,  0.2333, -0.0319]]], device='cuda:0',\n",
       "       grad_fn=<CudnnRnnBackward0>)"
      ]
     },
     "execution_count": 11,
     "metadata": {},
     "output_type": "execute_result"
    }
   ],
   "source": [
    "hn_with_double"
   ]
  },
  {
   "attachments": {},
   "cell_type": "markdown",
   "metadata": {},
   "source": [
    "可以看到outputs_with_double的`shape`从刚才的`[2,3,5]`变成了`[2,3,10]`这是因为我们使用`num_layers`叠加了两层RNN层的结果  \n",
    "而因为我们叠加了两层RNN，因此在设置batch_first后，torch取到的第一个batch其实是第一个层全部张量。"
   ]
  }
 ],
 "metadata": {
  "kernelspec": {
   "display_name": "base",
   "language": "python",
   "name": "python3"
  },
  "language_info": {
   "codemirror_mode": {
    "name": "ipython",
    "version": 3
   },
   "file_extension": ".py",
   "mimetype": "text/x-python",
   "name": "python",
   "nbconvert_exporter": "python",
   "pygments_lexer": "ipython3",
   "version": "3.9.13"
  },
  "orig_nbformat": 4
 },
 "nbformat": 4,
 "nbformat_minor": 2
}
