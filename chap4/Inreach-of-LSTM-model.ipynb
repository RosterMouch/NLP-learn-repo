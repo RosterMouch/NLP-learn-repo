{
 "cells": [
  {
   "attachments": {},
   "cell_type": "markdown",
   "metadata": {},
   "source": [
    "在Pytorch中使用LSTM模型"
   ]
  },
  {
   "cell_type": "code",
   "execution_count": 1,
   "metadata": {},
   "outputs": [],
   "source": [
    "from torch.nn import LSTM\n",
    "import torch"
   ]
  },
  {
   "cell_type": "code",
   "execution_count": 3,
   "metadata": {},
   "outputs": [
    {
     "data": {
      "text/plain": [
       "'cuda'"
      ]
     },
     "execution_count": 3,
     "metadata": {},
     "output_type": "execute_result"
    }
   ],
   "source": [
    "# 初始化CUDA设备\n",
    "device = torch.device(\"cuda\" if torch.cuda.is_available() else \"cpu\")\n",
    "device.type"
   ]
  },
  {
   "cell_type": "code",
   "execution_count": 7,
   "metadata": {},
   "outputs": [
    {
     "data": {
      "text/plain": [
       "LSTM(4, 5, batch_first=True)"
      ]
     },
     "execution_count": 7,
     "metadata": {},
     "output_type": "execute_result"
    }
   ],
   "source": [
    "# 初始一个LSTM层，输入维度为4，隐含层为5，开启batch_first\n",
    "lstm = LSTM(4, 5, batch_first=True,device=device)\n",
    "lstm"
   ]
  },
  {
   "cell_type": "code",
   "execution_count": 8,
   "metadata": {},
   "outputs": [
    {
     "data": {
      "text/plain": [
       "tensor([[[ 0.3375,  1.1748, -0.6476, -1.2820],\n",
       "         [-1.7407,  1.5508,  1.1037,  0.8164],\n",
       "         [ 0.3539, -1.0916, -0.2592, -0.0105]],\n",
       "\n",
       "        [[-0.4913,  0.7585, -1.0887,  0.0504],\n",
       "         [-0.0874,  1.1474, -0.9201,  1.2172],\n",
       "         [ 0.9147,  0.1878,  0.4109,  0.8722]]], device='cuda:0')"
      ]
     },
     "execution_count": 8,
     "metadata": {},
     "output_type": "execute_result"
    }
   ],
   "source": [
    "# 初始化输入数据，batch_size为2，序列长度为3，输入维度为4\n",
    "inputs = torch.randn(2, 3, 4,device=device)\n",
    "inputs"
   ]
  },
  {
   "cell_type": "code",
   "execution_count": 9,
   "metadata": {},
   "outputs": [
    {
     "data": {
      "text/plain": [
       "(torch.Size([2, 3, 5]), torch.Size([1, 2, 5]), torch.Size([1, 2, 5]))"
      ]
     },
     "execution_count": 9,
     "metadata": {},
     "output_type": "execute_result"
    }
   ],
   "source": [
    "outputs, (h_n, c_n) = lstm(inputs) # c_n为最后一个时间步的记忆细胞状态\n",
    "outputs.shape, h_n.shape, c_n.shape"
   ]
  },
  {
   "cell_type": "code",
   "execution_count": 10,
   "metadata": {},
   "outputs": [
    {
     "data": {
      "text/plain": [
       "tensor([[[-1.8937e-01, -5.7841e-02, -7.7918e-02, -1.0766e-01, -1.0654e-01],\n",
       "         [-2.9439e-01, -2.0929e-01,  1.1267e-04, -7.8358e-02,  2.0115e-01],\n",
       "         [-2.4992e-01,  6.0812e-03, -2.2275e-02, -1.3103e-01, -6.2236e-02]],\n",
       "\n",
       "        [[-7.9335e-02, -9.5462e-02, -9.9495e-02, -1.4291e-01, -1.0712e-02],\n",
       "         [ 3.4148e-02, -2.3240e-01, -1.3099e-01, -2.6577e-01,  4.2479e-02],\n",
       "         [-1.0890e-01, -7.8834e-02,  4.3252e-02, -2.0739e-01, -2.9185e-02]]],\n",
       "       device='cuda:0', grad_fn=<CudnnRnnBackward0>)"
      ]
     },
     "execution_count": 10,
     "metadata": {},
     "output_type": "execute_result"
    }
   ],
   "source": [
    "outputs"
   ]
  },
  {
   "cell_type": "code",
   "execution_count": 11,
   "metadata": {},
   "outputs": [
    {
     "data": {
      "text/plain": [
       "tensor([[[-0.2499,  0.0061, -0.0223, -0.1310, -0.0622],\n",
       "         [-0.1089, -0.0788,  0.0433, -0.2074, -0.0292]]], device='cuda:0',\n",
       "       grad_fn=<CudnnRnnBackward0>)"
      ]
     },
     "execution_count": 11,
     "metadata": {},
     "output_type": "execute_result"
    }
   ],
   "source": [
    "h_n"
   ]
  },
  {
   "cell_type": "code",
   "execution_count": 12,
   "metadata": {},
   "outputs": [
    {
     "data": {
      "text/plain": [
       "tensor([[[-0.5882,  0.0104, -0.0507, -0.2587, -0.1326],\n",
       "         [-0.2125, -0.1021,  0.0794, -0.3683, -0.0386]]], device='cuda:0',\n",
       "       grad_fn=<CudnnRnnBackward0>)"
      ]
     },
     "execution_count": 12,
     "metadata": {},
     "output_type": "execute_result"
    }
   ],
   "source": [
    "c_n"
   ]
  },
  {
   "cell_type": "code",
   "execution_count": null,
   "metadata": {},
   "outputs": [],
   "source": []
  }
 ],
 "metadata": {
  "kernelspec": {
   "display_name": "base",
   "language": "python",
   "name": "python3"
  },
  "language_info": {
   "codemirror_mode": {
    "name": "ipython",
    "version": 3
   },
   "file_extension": ".py",
   "mimetype": "text/x-python",
   "name": "python",
   "nbconvert_exporter": "python",
   "pygments_lexer": "ipython3",
   "version": "3.9.13"
  },
  "orig_nbformat": 4
 },
 "nbformat": 4,
 "nbformat_minor": 2
}
