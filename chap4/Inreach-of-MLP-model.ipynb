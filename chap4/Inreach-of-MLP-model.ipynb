{
 "cells": [
  {
   "attachments": {},
   "cell_type": "markdown",
   "metadata": {},
   "source": [
    "通过Pytorch进行激活函数的实现与计算"
   ]
  },
  {
   "cell_type": "code",
   "execution_count": 1,
   "metadata": {},
   "outputs": [],
   "source": [
    "import torch.nn as nn\n",
    "import torch\n",
    "linear = nn.Linear(\n",
    "    in_features=32, # 指定线性单元的输入维度\n",
    "    out_features=2, # 指定线性单元的输出维度\n",
    ")"
   ]
  },
  {
   "cell_type": "code",
   "execution_count": 2,
   "metadata": {},
   "outputs": [
    {
     "data": {
      "text/plain": [
       "'cuda'"
      ]
     },
     "execution_count": 2,
     "metadata": {},
     "output_type": "execute_result"
    }
   ],
   "source": [
    "# 初始化CUDA设备\n",
    "device = torch.device(\"cuda:0\" if torch.cuda.is_available() else \"cpu\")\n",
    "device.type"
   ]
  },
  {
   "cell_type": "code",
   "execution_count": 3,
   "metadata": {},
   "outputs": [],
   "source": [
    "# 生成一个3x32的随机张量\n",
    "inputs = torch.rand(3,32,device=device)\n",
    "linear.to(device)\n",
    "outputs = linear(inputs)"
   ]
  },
  {
   "cell_type": "code",
   "execution_count": 4,
   "metadata": {},
   "outputs": [
    {
     "data": {
      "text/plain": [
       "tensor([[0.2776, 0.1083],\n",
       "        [0.3354, 0.0144],\n",
       "        [0.4595, 0.1812]], device='cuda:0', grad_fn=<AddmmBackward0>)"
      ]
     },
     "execution_count": 4,
     "metadata": {},
     "output_type": "execute_result"
    }
   ],
   "source": [
    "# 验证线性模型输出\n",
    "outputs"
   ]
  },
  {
   "cell_type": "code",
   "execution_count": 5,
   "metadata": {},
   "outputs": [
    {
     "name": "stderr",
     "output_type": "stream",
     "text": [
      "/home/elin/anaconda3/lib/python3.9/site-packages/torch/nn/functional.py:1967: UserWarning: nn.functional.sigmoid is deprecated. Use torch.sigmoid instead.\n",
      "  warnings.warn(\"nn.functional.sigmoid is deprecated. Use torch.sigmoid instead.\")\n"
     ]
    },
    {
     "data": {
      "text/plain": [
       "tensor([[0.5689, 0.5270],\n",
       "        [0.5831, 0.5036],\n",
       "        [0.6129, 0.5452]], device='cuda:0', grad_fn=<SigmoidBackward0>)"
      ]
     },
     "execution_count": 5,
     "metadata": {},
     "output_type": "execute_result"
    }
   ],
   "source": [
    "# 通过调用nn.functional()类使用激活函数\n",
    "activation_sigmoid = nn.functional.sigmoid(outputs)\n",
    "activation_sigmoid\n",
    "# 或者使用torch.sigmoid()直接进行调用（新版API）"
   ]
  },
  {
   "cell_type": "code",
   "execution_count": 6,
   "metadata": {},
   "outputs": [
    {
     "data": {
      "text/plain": [
       "tensor([[0.5422, 0.4578],\n",
       "        [0.5796, 0.4204],\n",
       "        [0.5691, 0.4309]], device='cuda:0', grad_fn=<SoftmaxBackward0>)"
      ]
     },
     "execution_count": 6,
     "metadata": {},
     "output_type": "execute_result"
    }
   ],
   "source": [
    "# 调用torch.softmax()执行softmax激活函数\n",
    "activation_softmax = torch.softmax(outputs,dim=1)\n",
    "activation_softmax"
   ]
  },
  {
   "cell_type": "code",
   "execution_count": 7,
   "metadata": {},
   "outputs": [
    {
     "data": {
      "text/plain": [
       "tensor([[0.2776, 0.1083],\n",
       "        [0.3354, 0.0144],\n",
       "        [0.4595, 0.1812]], device='cuda:0', grad_fn=<ReluBackward0>)"
      ]
     },
     "execution_count": 7,
     "metadata": {},
     "output_type": "execute_result"
    }
   ],
   "source": [
    "# 同理调用relu\n",
    "activation_relu = torch.relu(outputs)\n",
    "activation_relu"
   ]
  },
  {
   "attachments": {},
   "cell_type": "markdown",
   "metadata": {},
   "source": [
    "通过继承`nn.Moudle`类实现自定的多层感知机"
   ]
  },
  {
   "cell_type": "code",
   "execution_count": 8,
   "metadata": {},
   "outputs": [],
   "source": [
    "class MLP(nn.Module):\n",
    "    def __init__(self,input_dim,hidden_dim,num_classes) -> None:\n",
    "        \"\"\"\n",
    "        input_dim：指定多层感知机\n",
    "        hidden_dim：指定隐藏层的输入大小，当使用多层Linear连接层时，该参数不该固定\n",
    "        num_classes：指定最后的线性连接层的分类类别数量（即输出维度）\n",
    "        \"\"\"\n",
    "        super(MLP,self).__init__()\n",
    "        # 线性变换：输入层->隐藏层\n",
    "        self.linear1 = nn.Linear(input_dim,hidden_dim)\n",
    "        # 使用ReLu进行激活\n",
    "        self.relu1 = torch.relu\n",
    "        # 将隐含层线性变换为输出层\n",
    "        self.linear2 = nn.Linear(hidden_dim,num_classes)\n",
    "    def forward(self,inputs):\n",
    "        hidden = self.linear1(inputs)\n",
    "        activation = self.relu1(hidden)\n",
    "        output = self.linear2(activation)\n",
    "        probs = torch.softmax(outputs,dim=1)\n",
    "        return probs"
   ]
  },
  {
   "cell_type": "code",
   "execution_count": 9,
   "metadata": {},
   "outputs": [
    {
     "data": {
      "text/plain": [
       "tensor([[0.5422, 0.4578],\n",
       "        [0.5796, 0.4204],\n",
       "        [0.5691, 0.4309]], device='cuda:0', grad_fn=<SoftmaxBackward0>)"
      ]
     },
     "execution_count": 9,
     "metadata": {},
     "output_type": "execute_result"
    }
   ],
   "source": [
    "# 调用模型\n",
    "mlp = MLP(input_dim=4,hidden_dim=5,num_classes=2)\n",
    "# 生成随机输入张量\n",
    "inputs = torch.rand(3,4)\n",
    "# 计算该模型的多层感知结果\n",
    "probs = mlp(inputs)\n",
    "probs"
   ]
  },
  {
   "cell_type": "code",
   "execution_count": null,
   "metadata": {},
   "outputs": [],
   "source": []
  }
 ],
 "metadata": {
  "kernelspec": {
   "display_name": "base",
   "language": "python",
   "name": "python3"
  },
  "language_info": {
   "codemirror_mode": {
    "name": "ipython",
    "version": 3
   },
   "file_extension": ".py",
   "mimetype": "text/x-python",
   "name": "python",
   "nbconvert_exporter": "python",
   "pygments_lexer": "ipython3",
   "version": "3.9.13"
  },
  "orig_nbformat": 4
 },
 "nbformat": 4,
 "nbformat_minor": 2
}
