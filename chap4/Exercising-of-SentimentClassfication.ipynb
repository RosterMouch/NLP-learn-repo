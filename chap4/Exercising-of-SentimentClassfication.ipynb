{
 "cells": [
  {
   "attachments": {},
   "cell_type": "markdown",
   "metadata": {},
   "source": [
    "在Pytorch中进行情感分类实战"
   ]
  },
  {
   "attachments": {},
   "cell_type": "markdown",
   "metadata": {},
   "source": [
    "创建`Vocab`类实现标记和索引之间的相互映射"
   ]
  },
  {
   "cell_type": "code",
   "execution_count": 1,
   "metadata": {},
   "outputs": [],
   "source": [
    "from collections import defaultdict"
   ]
  },
  {
   "cell_type": "code",
   "execution_count": 2,
   "metadata": {},
   "outputs": [],
   "source": [
    "class Vocab:\n",
    "    def __init__(self,tokens=None) -> None:\n",
    "        # 索引转换为标记\n",
    "        self.idx_to_token = []\n",
    "        # 标记映射到索引\n",
    "        self.token_to_idx = {}\n",
    "\n",
    "        # 如果tokens不为空，添加标记\n",
    "        if tokens is not None:\n",
    "            if \"<unk>\" not in tokens:\n",
    "                tokens = [\"<unk>\"] + tokens\n",
    "            # 遍历tokens，添加标记\n",
    "            for token in tokens:\n",
    "                self.idx_to_token.append(token)\n",
    "                self.token_to_idx[token] = len(self.idx_to_token) - 1\n",
    "            # 未知标记\n",
    "            self.unk = self.token_to_idx[\"<unk>\"]\n",
    "    # 使用@classmethod装饰器，将类方法转换为静态方法\n",
    "    @classmethod\n",
    "    def build(cls,text,min_freq=1,reserved_tokens=None):\n",
    "        \"\"\"\n",
    "        根据文本构建词汇表\n",
    "        cls：类方法\n",
    "        text：文本\n",
    "        min_freq：最小词频\n",
    "        reserved_tokens：保留的标记\n",
    "        \"\"\"\n",
    "        token_freqs = defaultdict(int)\n",
    "        # 遍历文本，统计词频\n",
    "        for sentence in text:\n",
    "            for token in sentence:\n",
    "                token_freqs[token] += 1\n",
    "        uniq_tokens = [\"<unk>\"] + (reserved_tokens)"
   ]
  },
  {
   "cell_type": "code",
   "execution_count": null,
   "metadata": {},
   "outputs": [],
   "source": []
  }
 ],
 "metadata": {
  "kernelspec": {
   "display_name": "base",
   "language": "python",
   "name": "python3"
  },
  "language_info": {
   "codemirror_mode": {
    "name": "ipython",
    "version": 3
   },
   "file_extension": ".py",
   "mimetype": "text/x-python",
   "name": "python",
   "nbconvert_exporter": "python",
   "pygments_lexer": "ipython3",
   "version": "3.9.13"
  },
  "orig_nbformat": 4
 },
 "nbformat": 4,
 "nbformat_minor": 2
}
