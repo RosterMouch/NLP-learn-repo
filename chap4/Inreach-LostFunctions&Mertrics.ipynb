{
 "cells": [
  {
   "attachments": {},
   "cell_type": "markdown",
   "metadata": {},
   "source": [
    "在Pytorch中训练模型并为其进行损失与精度校验"
   ]
  },
  {
   "cell_type": "code",
   "execution_count": 1,
   "metadata": {},
   "outputs": [],
   "source": [
    "import torch\n",
    "import torch.nn as nn\n",
    "import torch.optim as optim\n",
    "from tqdm import tqdm_notebook\n",
    "from torch.nn import functional as F"
   ]
  },
  {
   "cell_type": "code",
   "execution_count": 12,
   "metadata": {},
   "outputs": [],
   "source": [
    "# 定一个MLP模型\n",
    "class MLP(nn.Module):\n",
    "    def __init__(self,input_dim,hidden_dim,num_classes) -> None:\n",
    "        super(MLP,self).__init__()\n",
    "        self.linear1 = nn.Linear(input_dim,hidden_dim)\n",
    "        self.relu = F.relu\n",
    "        self.linear2 = nn.Linear(hidden_dim,num_classes)\n",
    "    def forward(self,inputs):\n",
    "        hidden = self.linear1(inputs.to(torch.float32))\n",
    "        relu = self.relu(hidden)\n",
    "        output = self.linear2(relu)\n",
    "        log_probs = F.log_softmax(output)\n",
    "        return log_probs"
   ]
  },
  {
   "cell_type": "code",
   "execution_count": 13,
   "metadata": {},
   "outputs": [
    {
     "data": {
      "text/plain": [
       "'cuda'"
      ]
     },
     "execution_count": 13,
     "metadata": {},
     "output_type": "execute_result"
    }
   ],
   "source": [
    "# 初始化CUDA设备\n",
    "device = torch.device(\"cuda\" if torch.cuda.is_available() else \"cpu\")\n",
    "device.type"
   ]
  },
  {
   "cell_type": "code",
   "execution_count": 14,
   "metadata": {},
   "outputs": [],
   "source": [
    "# 初始化一个异或问题张量\n",
    "x_train = torch.tensor([[0,0],[0,1],[1,0],[1,1]],device=device)\n",
    "# 初始化一个异或问题标签张量\n",
    "y_train = torch.tensor([[0],[1],[1],[0]],device=device)"
   ]
  },
  {
   "cell_type": "code",
   "execution_count": 15,
   "metadata": {},
   "outputs": [
    {
     "data": {
      "text/plain": [
       "torch.int64"
      ]
     },
     "execution_count": 15,
     "metadata": {},
     "output_type": "execute_result"
    }
   ],
   "source": [
    "x_train.dtype"
   ]
  },
  {
   "cell_type": "code",
   "execution_count": 16,
   "metadata": {},
   "outputs": [
    {
     "data": {
      "text/plain": [
       "torch.int64"
      ]
     },
     "execution_count": 16,
     "metadata": {},
     "output_type": "execute_result"
    }
   ],
   "source": [
    "y_train.dtype"
   ]
  },
  {
   "cell_type": "code",
   "execution_count": 17,
   "metadata": {},
   "outputs": [
    {
     "data": {
      "text/plain": [
       "MLP(\n",
       "  (linear1): Linear(in_features=2, out_features=5, bias=True)\n",
       "  (linear2): Linear(in_features=5, out_features=2, bias=True)\n",
       ")"
      ]
     },
     "execution_count": 17,
     "metadata": {},
     "output_type": "execute_result"
    }
   ],
   "source": [
    "# 创建多层感知器模型，输入层大小为2，隐含层大小为5，类别数为2\n",
    "model = MLP(input_dim=2,hidden_dim=5,num_classes=2)\n",
    "model"
   ]
  },
  {
   "cell_type": "code",
   "execution_count": 18,
   "metadata": {},
   "outputs": [],
   "source": [
    "# 使用对数softmax函数(log_softmax)作为输出时，需调用负数对数似然损失\n",
    "criterion = nn.NLLLoss()"
   ]
  },
  {
   "cell_type": "code",
   "execution_count": 38,
   "metadata": {},
   "outputs": [],
   "source": [
    "# 调用随机梯度下降优化器\n",
    "# 优化器调用参数分别为：\n",
    "# - 参数：来自于模型，调用model.parameters()获得\n",
    "# - 学习率：指定模型的学习速率\n",
    "optimizer = optim.SGD(model.parameters(),lr=0.1)"
   ]
  },
  {
   "cell_type": "code",
   "execution_count": 39,
   "metadata": {},
   "outputs": [
    {
     "data": {
      "text/plain": [
       "MLP(\n",
       "  (linear1): Linear(in_features=2, out_features=5, bias=True)\n",
       "  (linear2): Linear(in_features=5, out_features=2, bias=True)\n",
       ")"
      ]
     },
     "execution_count": 39,
     "metadata": {},
     "output_type": "execute_result"
    }
   ],
   "source": [
    "# 将模型转移到GPU\n",
    "model.to(device=device)"
   ]
  },
  {
   "cell_type": "code",
   "execution_count": 40,
   "metadata": {},
   "outputs": [
    {
     "name": "stderr",
     "output_type": "stream",
     "text": [
      "/tmp/ipykernel_3717/4138451745.py:1: TqdmDeprecationWarning: This function will be removed in tqdm==5.0.0\n",
      "Please use `tqdm.notebook.tqdm` instead of `tqdm.tqdm_notebook`\n",
      "  with tqdm_notebook(range(500),desc=\"Starting\") as bar:\n"
     ]
    },
    {
     "data": {
      "application/vnd.jupyter.widget-view+json": {
       "model_id": "38e6d2405f7f475cbacbbaa05b457a85",
       "version_major": 2,
       "version_minor": 0
      },
      "text/plain": [
       "Starting:   0%|          | 0/500 [00:00<?, ?it/s]"
      ]
     },
     "metadata": {},
     "output_type": "display_data"
    },
    {
     "name": "stderr",
     "output_type": "stream",
     "text": [
      "/tmp/ipykernel_3717/2451156915.py:12: UserWarning: Implicit dimension choice for log_softmax has been deprecated. Change the call to include dim=X as an argument.\n",
      "  log_probs = F.log_softmax(output)\n"
     ]
    },
    {
     "name": "stdout",
     "output_type": "stream",
     "text": [
      "Parameters: \n",
      "linear1.weight Parameter containing:\n",
      "tensor([[-1.6305,  1.6312],\n",
      "        [ 1.8609,  0.2028],\n",
      "        [-0.2100, -0.3954],\n",
      "        [ 1.9139,  1.9144],\n",
      "        [-1.1447, -1.1452]], device='cuda:0', requires_grad=True)\n",
      "linear1.bias Parameter containing:\n",
      "tensor([-9.6416e-04,  2.0105e-04, -6.6870e-02, -1.9134e+00,  1.1455e+00],\n",
      "       device='cuda:0', requires_grad=True)\n",
      "linear2.weight Parameter containing:\n",
      "tensor([[-1.7619, -1.5393, -0.2899,  2.3601,  1.3240],\n",
      "        [ 1.2332,  0.9601,  0.0979, -2.1523, -1.2707]], device='cuda:0',\n",
      "       requires_grad=True)\n",
      "linear2.bias Parameter containing:\n",
      "tensor([ 0.1792, -0.6557], device='cuda:0', requires_grad=True)\n",
      "Predict Results are :  tensor([0, 1, 1, 0], device='cuda:0')\n"
     ]
    }
   ],
   "source": [
    "with tqdm_notebook(range(500),desc=\"Starting\") as bar:\n",
    "    for i in bar:\n",
    "        # 执行预测\n",
    "        y_pred = model(x_train)\n",
    "        # 获取损失量\n",
    "        loss = criterion(y_pred,y_train.squeeze(dim=1))\n",
    "        # 清空优化器的梯度信息，以防止积累\n",
    "        optimizer.zero_grad()\n",
    "        bar.set_postfix(loss=\"{:.2f}\".format(loss))\n",
    "        # 反向传播损失函数计算的梯度值\n",
    "        loss.backward()\n",
    "        optimizer.step()\n",
    "        # 更新\n",
    "        bar.update()\n",
    "print(\"Parameters: \")\n",
    "for name,param in model.named_parameters():\n",
    "    print(name,param)\n",
    "final_pred = model(x_train)\n",
    "print(\"Predict Results are : \",final_pred.argmax(axis=1))"
   ]
  },
  {
   "cell_type": "code",
   "execution_count": null,
   "metadata": {},
   "outputs": [],
   "source": []
  }
 ],
 "metadata": {
  "kernelspec": {
   "display_name": "base",
   "language": "python",
   "name": "python3"
  },
  "language_info": {
   "codemirror_mode": {
    "name": "ipython",
    "version": 3
   },
   "file_extension": ".py",
   "mimetype": "text/x-python",
   "name": "python",
   "nbconvert_exporter": "python",
   "pygments_lexer": "ipython3",
   "version": "3.9.13"
  },
  "orig_nbformat": 4
 },
 "nbformat": 4,
 "nbformat_minor": 2
}
