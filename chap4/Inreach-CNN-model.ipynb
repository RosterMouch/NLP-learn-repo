{
 "cells": [
  {
   "attachments": {},
   "cell_type": "markdown",
   "metadata": {},
   "source": [
    "使用Pytorch中的卷积核进行卷积操作"
   ]
  },
  {
   "cell_type": "code",
   "execution_count": 1,
   "metadata": {},
   "outputs": [],
   "source": [
    "import torch\n",
    "import torch.nn as nn"
   ]
  },
  {
   "cell_type": "code",
   "execution_count": 2,
   "metadata": {},
   "outputs": [
    {
     "name": "stdout",
     "output_type": "stream",
     "text": [
      "cuda\n"
     ]
    }
   ],
   "source": [
    "device = torch.device(\"cuda:0\" if torch.cuda.is_available() else \"cpu\")\n",
    "print(device.type)"
   ]
  },
  {
   "cell_type": "code",
   "execution_count": 3,
   "metadata": {},
   "outputs": [],
   "source": [
    "# 定义一个卷积核，输入的通道数量为5，输出通道为2，卷积核大小（宽度）为4\n",
    "conv1 = nn.Conv1d(5,2,4,device=device)\n",
    "# 再定义一个卷积核，输入的通道数量为5，输出通道为2，卷积核大小（宽度）为3\n",
    "conv2 = nn.Conv1d(5,2,3,device=device)"
   ]
  },
  {
   "cell_type": "code",
   "execution_count": 4,
   "metadata": {},
   "outputs": [
    {
     "data": {
      "text/plain": [
       "device(type='cuda', index=0)"
      ]
     },
     "execution_count": 4,
     "metadata": {},
     "output_type": "execute_result"
    }
   ],
   "source": [
    "# 生成一个随机输出\n",
    "inputs = torch.rand(2,5,6,device=device)\n",
    "inputs.device"
   ]
  },
  {
   "cell_type": "code",
   "execution_count": 5,
   "metadata": {},
   "outputs": [
    {
     "data": {
      "text/plain": [
       "tensor([[[-0.4302, -0.4778, -0.3028],\n",
       "         [-0.0909, -0.1421,  0.0811]],\n",
       "\n",
       "        [[-0.3165, -0.6822, -0.4207],\n",
       "         [ 0.1178, -0.1478, -0.2259]]], device='cuda:0',\n",
       "       grad_fn=<ConvolutionBackward0>)"
      ]
     },
     "execution_count": 5,
     "metadata": {},
     "output_type": "execute_result"
    }
   ],
   "source": [
    "output_1 = conv1(inputs)\n",
    "output_1"
   ]
  },
  {
   "cell_type": "code",
   "execution_count": 6,
   "metadata": {},
   "outputs": [
    {
     "data": {
      "text/plain": [
       "tensor([[[-0.1495,  0.0107,  0.0274,  0.2551],\n",
       "         [-0.5307, -0.4619, -0.1138, -0.2138]],\n",
       "\n",
       "        [[ 0.2971,  0.1125,  0.2004, -0.1001],\n",
       "         [-0.3739, -0.0624, -0.5236, -0.5240]]], device='cuda:0',\n",
       "       grad_fn=<ConvolutionBackward0>)"
      ]
     },
     "execution_count": 6,
     "metadata": {},
     "output_type": "execute_result"
    }
   ],
   "source": [
    "output_2 = conv2(inputs)\n",
    "output_2"
   ]
  },
  {
   "attachments": {},
   "cell_type": "markdown",
   "metadata": {},
   "source": [
    "使用Maxpool1d进行一维的最大池化操作"
   ]
  },
  {
   "cell_type": "code",
   "execution_count": 7,
   "metadata": {},
   "outputs": [
    {
     "data": {
      "text/plain": [
       "tensor([[[-0.3028],\n",
       "         [ 0.0811]],\n",
       "\n",
       "        [[-0.3165],\n",
       "         [ 0.1178]]], device='cuda:0', grad_fn=<SqueezeBackward1>)"
      ]
     },
     "execution_count": 7,
     "metadata": {},
     "output_type": "execute_result"
    }
   ],
   "source": [
    "# 创建一个池化层，池化核大小为3\n",
    "poo1 = nn.MaxPool1d(3)\n",
    "# 创建一个池化层，池化核大小为4\n",
    "pool2 = nn.MaxPool1d(4)\n",
    "output_pool_1 = poo1(output_1)\n",
    "output_pool_1"
   ]
  },
  {
   "cell_type": "code",
   "execution_count": 8,
   "metadata": {},
   "outputs": [
    {
     "data": {
      "text/plain": [
       "tensor([[[ 0.2551],\n",
       "         [-0.1138]],\n",
       "\n",
       "        [[ 0.2971],\n",
       "         [-0.0624]]], device='cuda:0', grad_fn=<SqueezeBackward1>)"
      ]
     },
     "execution_count": 8,
     "metadata": {},
     "output_type": "execute_result"
    }
   ],
   "source": [
    "output_pool_2 = pool2(output_2)\n",
    "output_pool_2"
   ]
  },
  {
   "attachments": {},
   "cell_type": "markdown",
   "metadata": {},
   "source": [
    "使用nn.functional.max_pool1d()函数直接调度池化函数"
   ]
  },
  {
   "cell_type": "code",
   "execution_count": 9,
   "metadata": {},
   "outputs": [
    {
     "data": {
      "text/plain": [
       "tensor([[[-0.3028],\n",
       "         [ 0.0811]],\n",
       "\n",
       "        [[-0.3165],\n",
       "         [ 0.1178]]], device='cuda:0', grad_fn=<SqueezeBackward1>)"
      ]
     },
     "execution_count": 9,
     "metadata": {},
     "output_type": "execute_result"
    }
   ],
   "source": [
    "import torch.nn.functional as F\n",
    "# 使用F.max_pool1d函数实现池化层，池化核大小为3（来自于output的第三层）\n",
    "output_pool1 = F.max_pool1d(output_1,kernel_size=output_1.shape[2])\n",
    "output_pool1"
   ]
  },
  {
   "cell_type": "code",
   "execution_count": 10,
   "metadata": {},
   "outputs": [
    {
     "data": {
      "text/plain": [
       "tensor([[[ 0.2551],\n",
       "         [-0.1138]],\n",
       "\n",
       "        [[ 0.2971],\n",
       "         [-0.0624]]], device='cuda:0', grad_fn=<SqueezeBackward1>)"
      ]
     },
     "execution_count": 10,
     "metadata": {},
     "output_type": "execute_result"
    }
   ],
   "source": [
    "output_pool2 = F.max_pool1d(output_2,kernel_size=output_2.shape[2])\n",
    "output_pool2"
   ]
  },
  {
   "cell_type": "code",
   "execution_count": 11,
   "metadata": {},
   "outputs": [],
   "source": [
    "# 使用squeeze函数将output_pool1的第三层去掉，变成2*2的矩阵\n",
    "# 因为output_pool1和output_pool2需要在后期进行拼接，所以需要将其变成相同的形状\n",
    "output_pool1 = output_pool1.squeeze(dim=2)\n",
    "output_pool2 = output_pool2.squeeze(dim=2)"
   ]
  },
  {
   "cell_type": "code",
   "execution_count": 13,
   "metadata": {},
   "outputs": [
    {
     "data": {
      "text/plain": [
       "tensor([[-0.3028,  0.0811],\n",
       "        [-0.3165,  0.1178]], device='cuda:0', grad_fn=<SqueezeBackward1>)"
      ]
     },
     "execution_count": 13,
     "metadata": {},
     "output_type": "execute_result"
    }
   ],
   "source": [
    "output_pool1"
   ]
  },
  {
   "cell_type": "code",
   "execution_count": 14,
   "metadata": {},
   "outputs": [
    {
     "data": {
      "text/plain": [
       "tensor([[ 0.2551, -0.1138],\n",
       "        [ 0.2971, -0.0624]], device='cuda:0', grad_fn=<SqueezeBackward1>)"
      ]
     },
     "execution_count": 14,
     "metadata": {},
     "output_type": "execute_result"
    }
   ],
   "source": [
    "output_pool2"
   ]
  },
  {
   "cell_type": "code",
   "execution_count": 16,
   "metadata": {},
   "outputs": [
    {
     "data": {
      "text/plain": [
       "tensor([[-0.3028,  0.0811,  0.2551, -0.1138],\n",
       "        [-0.3165,  0.1178,  0.2971, -0.0624]], device='cuda:0',\n",
       "       grad_fn=<CatBackward0>)"
      ]
     },
     "execution_count": 16,
     "metadata": {},
     "output_type": "execute_result"
    }
   ],
   "source": [
    "outputs_pool = torch.cat((output_pool1,output_pool2),dim=1) # 指定按照第一维进行拼接\n",
    "outputs_pool"
   ]
  },
  {
   "cell_type": "code",
   "execution_count": 17,
   "metadata": {},
   "outputs": [],
   "source": [
    "# 创建隐藏层转输出，输入为4，输出为2\n",
    "linear = nn.Linear(4,2,device=device)\n",
    "outputs_linear = linear(outputs_pool)"
   ]
  },
  {
   "cell_type": "code",
   "execution_count": 18,
   "metadata": {},
   "outputs": [
    {
     "data": {
      "text/plain": [
       "tensor([[-0.3768,  0.4177],\n",
       "        [-0.3858,  0.4158]], device='cuda:0', grad_fn=<AddmmBackward0>)"
      ]
     },
     "execution_count": 18,
     "metadata": {},
     "output_type": "execute_result"
    }
   ],
   "source": [
    "outputs_linear"
   ]
  },
  {
   "cell_type": "code",
   "execution_count": null,
   "metadata": {},
   "outputs": [],
   "source": []
  }
 ],
 "metadata": {
  "kernelspec": {
   "display_name": "base",
   "language": "python",
   "name": "python3"
  },
  "language_info": {
   "codemirror_mode": {
    "name": "ipython",
    "version": 3
   },
   "file_extension": ".py",
   "mimetype": "text/x-python",
   "name": "python",
   "nbconvert_exporter": "python",
   "pygments_lexer": "ipython3",
   "version": "3.9.13"
  },
  "orig_nbformat": 4
 },
 "nbformat": 4,
 "nbformat_minor": 2
}
